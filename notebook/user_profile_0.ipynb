{
 "cells": [
  {
   "cell_type": "markdown",
   "metadata": {},
   "source": [
    "以一个电商的例子记录如何从0到1建立用户画像。\n",
    "\n",
    "企业在运营过程中积累了大量经营数据和用户行为数据，建立企业的用户画像简单来说就是给企业每个用户打上各种“标签”，利用这个标签系统就能有效地进行精细化运营。\n",
    "\n",
    "这里利用Python，SQL等技术手段整合业务数据、埋点数据和日志数据等，并建立用户画像的数据仓库。利用数据仓库进行经营分析，营销优化，以及个性化推荐等服务。\n",
    "\n",
    "这里通过一个实例讲解用户画像的４个部分。本文是用户画像的第一部分“项目目标与数据收集”。\n",
    "\n",
    "1. 项目目标与数据收集\n",
    "2. 数据指标体系设计\n",
    "3. 用户画像数据仓库开发\n",
    "4. 用户画像的应用\n",
    "\n",
    "某中小型电商网站有几十万的用户，销售各类化妆品。用户可以在电商网站浏览，收藏或者下单等。现在随着用户的增长，电商平台数据仓库积累了大量**业务数据、埋点数据和日志数据**。公司希望挖掘数据价值，建立用户画像提高运营效率，理解用户需求，为用户提供更好的购物体验。\n",
    "所以我们的目标是**1.建立用户画像数据仓库。2.如何利用用户画像给公司带来价值。**对于第二点，我们会在实例的第四部分展开。\n",
    "\n",
    "首先我们先了解下，用户标签数据仓库的实现的框架。\n",
    "\n",
    "![frame](pic/user_profile_frame.png)\n",
    "\n",
    "公司在运营中使用后台数据库记录运营数据，通过网页数据埋点和日志收集用户行为数据。\n",
    "\n",
    "通过ETL(Extract-Transform-Load)获取，整合并处理来自不同数据源的数据后存入公司数据仓库。数据仓库中的数据可用于分析，建模，可视化等操作为公司创造价值。数据仓库可以理解为存储所有部门可以的通用型分析数据库。\n",
    "\n",
    "接下来，再次通过ETL对数据仓库中的数据进行处理，并存入用户画像数据仓库。运营人员和数据分析师就能使用标签化的用户数据进行高效运营和分析。比如对高价值用户群体提供VIP服务，更具用户消费喜好精准推送广告促销，针对用户资料的不同话术等。"
   ]
  },
  {
   "cell_type": "markdown",
   "metadata": {},
   "source": [
    "本例的数据来自Kaggle的[eCommerce Events History in Cosmetics Shop数据集](https://www.kaggle.com/mkechinov/ecommerce-events-history-in-cosmetics-shop)。数据集包含了一家销售化妆品的网络电商从2019年十月到2020年二月的用户行为数据。数据结构如下图所示。\n",
    "\n",
    "![events_table_all](pic/events_all_tb.png)\n"
   ]
  },
  {
   "cell_type": "markdown",
   "metadata": {},
   "source": [
    "为了进行用户标签建模，我们"
   ]
  },
  {
   "cell_type": "code",
   "execution_count": null,
   "metadata": {},
   "outputs": [],
   "source": []
  }
 ],
 "metadata": {
  "kernelspec": {
   "display_name": "Python 3",
   "language": "python",
   "name": "python3"
  },
  "language_info": {
   "codemirror_mode": {
    "name": "ipython",
    "version": 3
   },
   "file_extension": ".py",
   "mimetype": "text/x-python",
   "name": "python",
   "nbconvert_exporter": "python",
   "pygments_lexer": "ipython3",
   "version": "3.7.6"
  },
  "toc": {
   "base_numbering": 1,
   "nav_menu": {},
   "number_sections": true,
   "sideBar": true,
   "skip_h1_title": false,
   "title_cell": "Table of Contents",
   "title_sidebar": "Contents",
   "toc_cell": false,
   "toc_position": {},
   "toc_section_display": true,
   "toc_window_display": false
  }
 },
 "nbformat": 4,
 "nbformat_minor": 4
}
