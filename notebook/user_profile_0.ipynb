{
 "cells": [
  {
   "cell_type": "markdown",
   "metadata": {},
   "source": [
    "以一个电商的例子记录如何从0到1建立用户画像。企业在运营过程中积累了大量经营数据和用户行为数据，建立企业的用户画像简单来说就是给企业每个用户打上各种“标签”，利用这个标签系统就能有效地进行精细化运营。\n",
    "这里利用Python，SQL等技术手段整合业务数据、埋点数据和日志数据等，并建立用户画像的数据仓库。利用数据仓库进行经营分析，营销优化，以及个性化推荐等服务。\n",
    "\n",
    "# 目录\n",
    "\n",
    "1. 项目目标与数据收集\n",
    "2. 数据指标体系设计\n",
    "3. 用户画像数据仓库开发\n",
    "4. 用户画像的应用\n",
    "5. 总结"
   ]
  },
  {
   "cell_type": "code",
   "execution_count": null,
   "metadata": {},
   "outputs": [],
   "source": []
  }
 ],
 "metadata": {
  "kernelspec": {
   "display_name": "Python 3",
   "language": "python",
   "name": "python3"
  },
  "language_info": {
   "codemirror_mode": {
    "name": "ipython",
    "version": 3
   },
   "file_extension": ".py",
   "mimetype": "text/x-python",
   "name": "python",
   "nbconvert_exporter": "python",
   "pygments_lexer": "ipython3",
   "version": "3.7.6"
  },
  "toc": {
   "base_numbering": 1,
   "nav_menu": {},
   "number_sections": true,
   "sideBar": true,
   "skip_h1_title": false,
   "title_cell": "Table of Contents",
   "title_sidebar": "Contents",
   "toc_cell": false,
   "toc_position": {},
   "toc_section_display": true,
   "toc_window_display": false
  }
 },
 "nbformat": 4,
 "nbformat_minor": 4
}
