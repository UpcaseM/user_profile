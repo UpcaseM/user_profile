{
 "cells": [
  {
   "cell_type": "markdown",
   "metadata": {},
   "source": [
    "数据来源于[京东JData算法大赛-高潜用户购买意向预测](https://www.datafountain.cn/competitions/247/datasets).通过Python随机取了10000个用户和500个商品作为项目数据。"
   ]
  },
  {
   "cell_type": "code",
   "execution_count": 9,
   "metadata": {},
   "outputs": [],
   "source": [
    "import pandas as pd\n",
    "import psycopg2.extras as pe\n",
    "import sqlite3\n",
    "from scipy.stats import norm\n",
    "import random\n",
    "import numpy as np\n",
    "import faker\n",
    "import psycopg2"
   ]
  },
  {
   "cell_type": "code",
   "execution_count": 10,
   "metadata": {},
   "outputs": [],
   "source": [
    "project_dir = r'/mnt/data-ubuntu/Projects/user_profile'\n",
    "seed = 123\n",
    "fake = faker.Faker('zh_CN')\n",
    "faker.Faker.seed(123)"
   ]
  },
  {
   "cell_type": "code",
   "execution_count": 11,
   "metadata": {},
   "outputs": [],
   "source": [
    "import sys\n",
    "sys.path.insert(0,project_dir + r'/src')"
   ]
  },
  {
   "cell_type": "code",
   "execution_count": 14,
   "metadata": {},
   "outputs": [],
   "source": [
    "import sql_queries"
   ]
  },
  {
   "cell_type": "code",
   "execution_count": 13,
   "metadata": {},
   "outputs": [
    {
     "data": {
      "text/plain": [
       "<module 'sql_queries' from '/mnt/data-ubuntu/Projects/user_profile/src/sql_queries.py'>"
      ]
     },
     "execution_count": 13,
     "metadata": {},
     "output_type": "execute_result"
    }
   ],
   "source": [
    "import importlib\n",
    "importlib.reload(sql_queries)"
   ]
  },
  {
   "cell_type": "code",
   "execution_count": 62,
   "metadata": {},
   "outputs": [],
   "source": [
    "project_dir = r'/mnt/data-ubuntu/Projects/user_profile'\n",
    "conn = psycopg2.connect(user = 'test',\n",
    "                        password = '123456',\n",
    "                        host = '127.0.0.1',\n",
    "                        port = '5432',\n",
    "                        database = \"user_profile_dw\")"
   ]
  },
  {
   "cell_type": "code",
   "execution_count": 74,
   "metadata": {},
   "outputs": [],
   "source": [
    "conn.close()"
   ]
  },
  {
   "cell_type": "code",
   "execution_count": 63,
   "metadata": {},
   "outputs": [
    {
     "data": {
      "text/html": [
       "<div>\n",
       "<style scoped>\n",
       "    .dataframe tbody tr th:only-of-type {\n",
       "        vertical-align: middle;\n",
       "    }\n",
       "\n",
       "    .dataframe tbody tr th {\n",
       "        vertical-align: top;\n",
       "    }\n",
       "\n",
       "    .dataframe thead th {\n",
       "        text-align: right;\n",
       "    }\n",
       "</style>\n",
       "<table border=\"1\" class=\"dataframe\">\n",
       "  <thead>\n",
       "    <tr style=\"text-align: right;\">\n",
       "      <th></th>\n",
       "      <th>table_schema</th>\n",
       "      <th>table_name</th>\n",
       "    </tr>\n",
       "  </thead>\n",
       "  <tbody>\n",
       "    <tr>\n",
       "      <th>0</th>\n",
       "      <td>public</td>\n",
       "      <td>events</td>\n",
       "    </tr>\n",
       "    <tr>\n",
       "      <th>1</th>\n",
       "      <td>public</td>\n",
       "      <td>orders</td>\n",
       "    </tr>\n",
       "    <tr>\n",
       "      <th>2</th>\n",
       "      <td>public</td>\n",
       "      <td>products</td>\n",
       "    </tr>\n",
       "    <tr>\n",
       "      <th>3</th>\n",
       "      <td>public</td>\n",
       "      <td>time</td>\n",
       "    </tr>\n",
       "    <tr>\n",
       "      <th>4</th>\n",
       "      <td>public</td>\n",
       "      <td>users</td>\n",
       "    </tr>\n",
       "  </tbody>\n",
       "</table>\n",
       "</div>"
      ],
      "text/plain": [
       "  table_schema table_name\n",
       "0       public     events\n",
       "1       public     orders\n",
       "2       public   products\n",
       "3       public       time\n",
       "4       public      users"
      ]
     },
     "execution_count": 63,
     "metadata": {},
     "output_type": "execute_result"
    }
   ],
   "source": [
    "s = \"\"\n",
    "s += \"SELECT\"\n",
    "s += \" table_schema\"\n",
    "s += \", table_name\"\n",
    "s += \" FROM information_schema.tables\"\n",
    "s += \" WHERE\"\n",
    "s += \" (\"\n",
    "s += \" table_schema = 'public'\"\n",
    "s += \" )\"\n",
    "s += \"OR (TABLE_SCHEMA = 'dw')\"\n",
    "s += \" ORDER BY table_schema, table_name;\"\n",
    "pd.read_sql(s, conn)"
   ]
  },
  {
   "cell_type": "code",
   "execution_count": 56,
   "metadata": {},
   "outputs": [
    {
     "data": {
      "text/html": [
       "<div>\n",
       "<style scoped>\n",
       "    .dataframe tbody tr th:only-of-type {\n",
       "        vertical-align: middle;\n",
       "    }\n",
       "\n",
       "    .dataframe tbody tr th {\n",
       "        vertical-align: top;\n",
       "    }\n",
       "\n",
       "    .dataframe thead th {\n",
       "        text-align: right;\n",
       "    }\n",
       "</style>\n",
       "<table border=\"1\" class=\"dataframe\">\n",
       "  <thead>\n",
       "    <tr style=\"text-align: right;\">\n",
       "      <th></th>\n",
       "      <th>line_id</th>\n",
       "      <th>qty</th>\n",
       "    </tr>\n",
       "  </thead>\n",
       "  <tbody>\n",
       "  </tbody>\n",
       "</table>\n",
       "</div>"
      ],
      "text/plain": [
       "Empty DataFrame\n",
       "Columns: [line_id, qty]\n",
       "Index: []"
      ]
     },
     "execution_count": 56,
     "metadata": {},
     "output_type": "execute_result"
    }
   ],
   "source": [
    "sql = \"\"\"\n",
    "CREATE TABLE dw.test(\n",
    "    line_id SERIAL PRIMARY KEY,\n",
    "    qty INTEGER\n",
    ");\n",
    "\"\"\"\n",
    "c = conn.cursor()\n",
    "c.execute(sql)\n",
    "\n",
    "sql = \"\"\"\n",
    "SELECT *\n",
    "FROM DW.TEST\n",
    "\"\"\"\n",
    "pd.read_sql(sql, conn)"
   ]
  },
  {
   "cell_type": "code",
   "execution_count": 27,
   "metadata": {},
   "outputs": [],
   "source": [
    "# Drop tables\n",
    "c = conn.cursor()\n",
    "for q in sql_queries.drop_table_queries:\n",
    "    c.execute(q)\n",
    "    conn.commit()\n",
    "# Create tables\n",
    "for q in sql_queries.create_table_queries:\n",
    "    c.execute(q)\n",
    "    conn.commit()"
   ]
  },
  {
   "cell_type": "code",
   "execution_count": 66,
   "metadata": {
    "scrolled": true
   },
   "outputs": [],
   "source": [
    "sql = \"\"\"\n",
    "SELECT \n",
    "*\n",
    "FROM users\n",
    "\"\"\"\n",
    "df_users = pd.read_sql(sql, conn)\n"
   ]
  },
  {
   "cell_type": "code",
   "execution_count": 257,
   "metadata": {},
   "outputs": [],
   "source": [
    "import glob\n",
    "lst_files = glob.glob(project_dir + r'/input/ecommerce_cosmetics/*.csv')"
   ]
  },
  {
   "cell_type": "code",
   "execution_count": 258,
   "metadata": {},
   "outputs": [
    {
     "data": {
      "text/plain": [
       "['/mnt/data-ubuntu/Projects/user_profile/input/ecommerce_cosmetics/2019-Dec.csv',\n",
       " '/mnt/data-ubuntu/Projects/user_profile/input/ecommerce_cosmetics/2019-Nov.csv',\n",
       " '/mnt/data-ubuntu/Projects/user_profile/input/ecommerce_cosmetics/2019-Oct.csv',\n",
       " '/mnt/data-ubuntu/Projects/user_profile/input/ecommerce_cosmetics/2020-Feb.csv',\n",
       " '/mnt/data-ubuntu/Projects/user_profile/input/ecommerce_cosmetics/2020-Jan.csv']"
      ]
     },
     "execution_count": 258,
     "metadata": {},
     "output_type": "execute_result"
    }
   ],
   "source": [
    "lst_files"
   ]
  },
  {
   "cell_type": "code",
   "execution_count": 19,
   "metadata": {},
   "outputs": [
    {
     "name": "stdout",
     "output_type": "stream",
     "text": [
      "CPU times: user 590 ms, sys: 157 ms, total: 747 ms\n",
      "Wall time: 29.7 s\n"
     ]
    }
   ],
   "source": [
    "%%time\n",
    "with open(project_dir + r'/input/ecommerce_cosmetics/2019-Nov.csv', 'r') as f:\n",
    "    next(f) # Skip the header row.\n",
    "    c.copy_from(f,\n",
    "                'staging_events',\n",
    "                sep=',',\n",
    "                columns=['event_time',\n",
    "                         'event_type',\n",
    "                         'product_id',\n",
    "                         'category_id',\n",
    "                         'category_code',\n",
    "                         'brand',\n",
    "                         'price',\n",
    "                         'user_id',\n",
    "                         'user_session'])\n",
    "    conn.commit()"
   ]
  },
  {
   "cell_type": "code",
   "execution_count": 222,
   "metadata": {
    "scrolled": true
   },
   "outputs": [],
   "source": [
    "c = conn.cursor()\n",
    "c.execute(sql_queries.events_table_insert)\n",
    "conn.commit()"
   ]
  },
  {
   "cell_type": "code",
   "execution_count": 223,
   "metadata": {},
   "outputs": [],
   "source": [
    "c = conn.cursor()\n",
    "c.execute(sql_queries.products_table_insert)\n",
    "conn.commit()"
   ]
  },
  {
   "cell_type": "code",
   "execution_count": 224,
   "metadata": {},
   "outputs": [],
   "source": [
    "c = conn.cursor()\n",
    "c.execute(sql_queries.orders_table_insert)\n",
    "conn.commit()"
   ]
  },
  {
   "cell_type": "code",
   "execution_count": 225,
   "metadata": {},
   "outputs": [],
   "source": [
    "c = conn.cursor()\n",
    "c.execute(sql_queries.time_table_insert)\n",
    "conn.commit()"
   ]
  },
  {
   "cell_type": "code",
   "execution_count": 226,
   "metadata": {},
   "outputs": [],
   "source": [
    "sql = \"\"\"\n",
    "SELECT\n",
    "    DISTINCT\n",
    "    user_id\n",
    "FROM events\n",
    "\"\"\"\n",
    "df_users = pd.read_sql(sql, conn)"
   ]
  },
  {
   "cell_type": "code",
   "execution_count": 64,
   "metadata": {},
   "outputs": [
    {
     "ename": "NameError",
     "evalue": "name 'df_users' is not defined",
     "output_type": "error",
     "traceback": [
      "\u001b[0;31m---------------------------------------------------------------------------\u001b[0m",
      "\u001b[0;31mNameError\u001b[0m                                 Traceback (most recent call last)",
      "\u001b[0;32m<ipython-input-64-30abb42fafdc>\u001b[0m in \u001b[0;36m<module>\u001b[0;34m\u001b[0m\n\u001b[0;32m----> 1\u001b[0;31m \u001b[0mdf_users\u001b[0m\u001b[0;34m\u001b[0m\u001b[0;34m\u001b[0m\u001b[0m\n\u001b[0m",
      "\u001b[0;31mNameError\u001b[0m: name 'df_users' is not defined"
     ]
    }
   ],
   "source": [
    "df_users"
   ]
  },
  {
   "cell_type": "code",
   "execution_count": 228,
   "metadata": {},
   "outputs": [],
   "source": [
    "def generate_gender():\n",
    "    \"\"\"\n",
    "    Generate random gender. Assume 80% of the customers are female.\n",
    "    \"\"\"\n",
    "    if random.random()<=0.2:\n",
    "        return 'M'\n",
    "    else:\n",
    "        return 'F'\n",
    "\n",
    "num_users = df_users.shape[0]\n",
    "\n",
    "# Create df_users\n",
    "df_users['user_name'] = [fake.user_name() for _ in range(num_users)]\n",
    "df_users['name'] = [fake.name() for _ in range(num_users)]\n",
    "df_users['gender'] = [generate_gender() for _ in range(num_users)]\n",
    "df_users['mail'] = [fake.email() for _ in range(num_users)]\n",
    "df_users['province'] = [fake.province() for _ in range(num_users)]\n",
    "# The age of the users consists of two parts. 80% is created by norm\n",
    "# and the remaining is created by random numbers between 20 and 60.\n",
    "users_norm = int(num_users*.8)\n",
    "df_users['age'] = np.append(np.round(norm.rvs(30, 4, users_norm)),\n",
    "                                  [random.randint(20, 60) for _ in range(num_users - users_norm)])\n",
    "\n"
   ]
  },
  {
   "cell_type": "code",
   "execution_count": 234,
   "metadata": {
    "scrolled": true
   },
   "outputs": [],
   "source": [
    "c = conn.cursor()\n",
    "pe.execute_batch(c, sql_queries.users_table_insert, df_users.values)\n",
    "conn.commit()"
   ]
  },
  {
   "cell_type": "code",
   "execution_count": 239,
   "metadata": {},
   "outputs": [],
   "source": [
    "c = conn.cursor()\n",
    "c.execute(sql_queries.staging_events_table_drop)\n",
    "conn.commit()"
   ]
  },
  {
   "cell_type": "code",
   "execution_count": 262,
   "metadata": {},
   "outputs": [
    {
     "name": "stdout",
     "output_type": "stream",
     "text": [
      "1\n"
     ]
    }
   ],
   "source": [
    "a = None\n",
    "if not a:\n",
    "    print(1)"
   ]
  },
  {
   "cell_type": "code",
   "execution_count": 240,
   "metadata": {},
   "outputs": [
    {
     "ename": "DatabaseError",
     "evalue": "Execution failed on sql '\nSELECT\n    *\nFROM STAGING_EVENTS\nLIMIT 5000\n': relation \"staging_events\" does not exist\nLINE 4: FROM STAGING_EVENTS\n             ^\n",
     "output_type": "error",
     "traceback": [
      "\u001b[0;31m---------------------------------------------------------------------------\u001b[0m",
      "\u001b[0;31mUndefinedTable\u001b[0m                            Traceback (most recent call last)",
      "\u001b[0;32m~/anaconda3/lib/python3.7/site-packages/pandas/io/sql.py\u001b[0m in \u001b[0;36mexecute\u001b[0;34m(self, *args, **kwargs)\u001b[0m\n\u001b[1;32m   1585\u001b[0m         \u001b[0;32mtry\u001b[0m\u001b[0;34m:\u001b[0m\u001b[0;34m\u001b[0m\u001b[0;34m\u001b[0m\u001b[0m\n\u001b[0;32m-> 1586\u001b[0;31m             \u001b[0mcur\u001b[0m\u001b[0;34m.\u001b[0m\u001b[0mexecute\u001b[0m\u001b[0;34m(\u001b[0m\u001b[0;34m*\u001b[0m\u001b[0margs\u001b[0m\u001b[0;34m,\u001b[0m \u001b[0;34m**\u001b[0m\u001b[0mkwargs\u001b[0m\u001b[0;34m)\u001b[0m\u001b[0;34m\u001b[0m\u001b[0;34m\u001b[0m\u001b[0m\n\u001b[0m\u001b[1;32m   1587\u001b[0m             \u001b[0;32mreturn\u001b[0m \u001b[0mcur\u001b[0m\u001b[0;34m\u001b[0m\u001b[0;34m\u001b[0m\u001b[0m\n",
      "\u001b[0;31mUndefinedTable\u001b[0m: relation \"staging_events\" does not exist\nLINE 4: FROM STAGING_EVENTS\n             ^\n",
      "\nThe above exception was the direct cause of the following exception:\n",
      "\u001b[0;31mDatabaseError\u001b[0m                             Traceback (most recent call last)",
      "\u001b[0;32m<ipython-input-240-a59dd0ccc628>\u001b[0m in \u001b[0;36m<module>\u001b[0;34m\u001b[0m\n\u001b[1;32m      5\u001b[0m \u001b[0mLIMIT\u001b[0m \u001b[0;36m5000\u001b[0m\u001b[0;34m\u001b[0m\u001b[0;34m\u001b[0m\u001b[0m\n\u001b[1;32m      6\u001b[0m \"\"\"\n\u001b[0;32m----> 7\u001b[0;31m \u001b[0mpd\u001b[0m\u001b[0;34m.\u001b[0m\u001b[0mread_sql\u001b[0m\u001b[0;34m(\u001b[0m\u001b[0msql\u001b[0m\u001b[0;34m,\u001b[0m \u001b[0mconn\u001b[0m\u001b[0;34m)\u001b[0m\u001b[0;34m\u001b[0m\u001b[0;34m\u001b[0m\u001b[0m\n\u001b[0m",
      "\u001b[0;32m~/anaconda3/lib/python3.7/site-packages/pandas/io/sql.py\u001b[0m in \u001b[0;36mread_sql\u001b[0;34m(sql, con, index_col, coerce_float, params, parse_dates, columns, chunksize)\u001b[0m\n\u001b[1;32m    410\u001b[0m             \u001b[0mcoerce_float\u001b[0m\u001b[0;34m=\u001b[0m\u001b[0mcoerce_float\u001b[0m\u001b[0;34m,\u001b[0m\u001b[0;34m\u001b[0m\u001b[0;34m\u001b[0m\u001b[0m\n\u001b[1;32m    411\u001b[0m             \u001b[0mparse_dates\u001b[0m\u001b[0;34m=\u001b[0m\u001b[0mparse_dates\u001b[0m\u001b[0;34m,\u001b[0m\u001b[0;34m\u001b[0m\u001b[0;34m\u001b[0m\u001b[0m\n\u001b[0;32m--> 412\u001b[0;31m             \u001b[0mchunksize\u001b[0m\u001b[0;34m=\u001b[0m\u001b[0mchunksize\u001b[0m\u001b[0;34m,\u001b[0m\u001b[0;34m\u001b[0m\u001b[0;34m\u001b[0m\u001b[0m\n\u001b[0m\u001b[1;32m    413\u001b[0m         )\n\u001b[1;32m    414\u001b[0m \u001b[0;34m\u001b[0m\u001b[0m\n",
      "\u001b[0;32m~/anaconda3/lib/python3.7/site-packages/pandas/io/sql.py\u001b[0m in \u001b[0;36mread_query\u001b[0;34m(self, sql, index_col, coerce_float, params, parse_dates, chunksize)\u001b[0m\n\u001b[1;32m   1631\u001b[0m \u001b[0;34m\u001b[0m\u001b[0m\n\u001b[1;32m   1632\u001b[0m         \u001b[0margs\u001b[0m \u001b[0;34m=\u001b[0m \u001b[0m_convert_params\u001b[0m\u001b[0;34m(\u001b[0m\u001b[0msql\u001b[0m\u001b[0;34m,\u001b[0m \u001b[0mparams\u001b[0m\u001b[0;34m)\u001b[0m\u001b[0;34m\u001b[0m\u001b[0;34m\u001b[0m\u001b[0m\n\u001b[0;32m-> 1633\u001b[0;31m         \u001b[0mcursor\u001b[0m \u001b[0;34m=\u001b[0m \u001b[0mself\u001b[0m\u001b[0;34m.\u001b[0m\u001b[0mexecute\u001b[0m\u001b[0;34m(\u001b[0m\u001b[0;34m*\u001b[0m\u001b[0margs\u001b[0m\u001b[0;34m)\u001b[0m\u001b[0;34m\u001b[0m\u001b[0;34m\u001b[0m\u001b[0m\n\u001b[0m\u001b[1;32m   1634\u001b[0m         \u001b[0mcolumns\u001b[0m \u001b[0;34m=\u001b[0m \u001b[0;34m[\u001b[0m\u001b[0mcol_desc\u001b[0m\u001b[0;34m[\u001b[0m\u001b[0;36m0\u001b[0m\u001b[0;34m]\u001b[0m \u001b[0;32mfor\u001b[0m \u001b[0mcol_desc\u001b[0m \u001b[0;32min\u001b[0m \u001b[0mcursor\u001b[0m\u001b[0;34m.\u001b[0m\u001b[0mdescription\u001b[0m\u001b[0;34m]\u001b[0m\u001b[0;34m\u001b[0m\u001b[0;34m\u001b[0m\u001b[0m\n\u001b[1;32m   1635\u001b[0m \u001b[0;34m\u001b[0m\u001b[0m\n",
      "\u001b[0;32m~/anaconda3/lib/python3.7/site-packages/pandas/io/sql.py\u001b[0m in \u001b[0;36mexecute\u001b[0;34m(self, *args, **kwargs)\u001b[0m\n\u001b[1;32m   1596\u001b[0m \u001b[0;34m\u001b[0m\u001b[0m\n\u001b[1;32m   1597\u001b[0m             \u001b[0mex\u001b[0m \u001b[0;34m=\u001b[0m \u001b[0mDatabaseError\u001b[0m\u001b[0;34m(\u001b[0m\u001b[0;34mf\"Execution failed on sql '{args[0]}': {exc}\"\u001b[0m\u001b[0;34m)\u001b[0m\u001b[0;34m\u001b[0m\u001b[0;34m\u001b[0m\u001b[0m\n\u001b[0;32m-> 1598\u001b[0;31m             \u001b[0;32mraise\u001b[0m \u001b[0mex\u001b[0m \u001b[0;32mfrom\u001b[0m \u001b[0mexc\u001b[0m\u001b[0;34m\u001b[0m\u001b[0;34m\u001b[0m\u001b[0m\n\u001b[0m\u001b[1;32m   1599\u001b[0m \u001b[0;34m\u001b[0m\u001b[0m\n\u001b[1;32m   1600\u001b[0m     \u001b[0;34m@\u001b[0m\u001b[0mstaticmethod\u001b[0m\u001b[0;34m\u001b[0m\u001b[0;34m\u001b[0m\u001b[0m\n",
      "\u001b[0;31mDatabaseError\u001b[0m: Execution failed on sql '\nSELECT\n    *\nFROM STAGING_EVENTS\nLIMIT 5000\n': relation \"staging_events\" does not exist\nLINE 4: FROM STAGING_EVENTS\n             ^\n"
     ]
    }
   ],
   "source": [
    "sql = \"\"\"\n",
    "SELECT\n",
    "    *\n",
    "FROM STAGING_EVENTS\n",
    "LIMIT 5000\n",
    "\"\"\"\n",
    "pd.read_sql(sql, conn)"
   ]
  },
  {
   "cell_type": "code",
   "execution_count": 460,
   "metadata": {
    "scrolled": true
   },
   "outputs": [
    {
     "data": {
      "text/html": [
       "<div>\n",
       "<style scoped>\n",
       "    .dataframe tbody tr th:only-of-type {\n",
       "        vertical-align: middle;\n",
       "    }\n",
       "\n",
       "    .dataframe tbody tr th {\n",
       "        vertical-align: top;\n",
       "    }\n",
       "\n",
       "    .dataframe thead th {\n",
       "        text-align: right;\n",
       "    }\n",
       "</style>\n",
       "<table border=\"1\" class=\"dataframe\">\n",
       "  <thead>\n",
       "    <tr style=\"text-align: right;\">\n",
       "      <th></th>\n",
       "      <th>event_time</th>\n",
       "      <th>event_type</th>\n",
       "      <th>product_id</th>\n",
       "      <th>category_id</th>\n",
       "      <th>category_code</th>\n",
       "      <th>brand</th>\n",
       "      <th>price</th>\n",
       "      <th>user_id</th>\n",
       "      <th>user_session</th>\n",
       "    </tr>\n",
       "  </thead>\n",
       "  <tbody>\n",
       "    <tr>\n",
       "      <th>9769</th>\n",
       "      <td>2019-11-25 19:35:58 UTC</td>\n",
       "      <td>purchase</td>\n",
       "      <td>5879287</td>\n",
       "      <td>1487580008607122425</td>\n",
       "      <td>NaN</td>\n",
       "      <td>masura</td>\n",
       "      <td>5.54</td>\n",
       "      <td>574814206</td>\n",
       "      <td>93f5a7c3-1f82-6965-966b-c465921e1821</td>\n",
       "    </tr>\n",
       "    <tr>\n",
       "      <th>9770</th>\n",
       "      <td>2019-11-25 19:35:58 UTC</td>\n",
       "      <td>purchase</td>\n",
       "      <td>5879287</td>\n",
       "      <td>1487580008607122425</td>\n",
       "      <td>NaN</td>\n",
       "      <td>masura</td>\n",
       "      <td>5.54</td>\n",
       "      <td>574814206</td>\n",
       "      <td>93f5a7c3-1f82-6965-966b-c465921e1821</td>\n",
       "    </tr>\n",
       "  </tbody>\n",
       "</table>\n",
       "</div>"
      ],
      "text/plain": [
       "                   event_time event_type  product_id          category_id  \\\n",
       "9769  2019-11-25 19:35:58 UTC   purchase     5879287  1487580008607122425   \n",
       "9770  2019-11-25 19:35:58 UTC   purchase     5879287  1487580008607122425   \n",
       "\n",
       "     category_code   brand  price    user_id  \\\n",
       "9769           NaN  masura   5.54  574814206   \n",
       "9770           NaN  masura   5.54  574814206   \n",
       "\n",
       "                              user_session  \n",
       "9769  93f5a7c3-1f82-6965-966b-c465921e1821  \n",
       "9770  93f5a7c3-1f82-6965-966b-c465921e1821  "
      ]
     },
     "execution_count": 460,
     "metadata": {},
     "output_type": "execute_result"
    }
   ],
   "source": [
    "# purchase directly\n",
    "df_events.query('user_session == \"93f5a7c3-1f82-6965-966b-c465921e1821\"')"
   ]
  },
  {
   "cell_type": "code",
   "execution_count": 463,
   "metadata": {},
   "outputs": [],
   "source": [
    "df_products = df_events.loc[:, ['product_id', 'category_id', 'category_code', 'brand']]\n",
    "df_products.sort_values(['product_id','category_id','category_code','brand'], inplace=True)\n",
    "df_products = df_products.groupby('product_id').nth(0).reset_index()"
   ]
  },
  {
   "cell_type": "code",
   "execution_count": 490,
   "metadata": {},
   "outputs": [
    {
     "data": {
      "text/html": [
       "<div>\n",
       "<style scoped>\n",
       "    .dataframe tbody tr th:only-of-type {\n",
       "        vertical-align: middle;\n",
       "    }\n",
       "\n",
       "    .dataframe tbody tr th {\n",
       "        vertical-align: top;\n",
       "    }\n",
       "\n",
       "    .dataframe thead th {\n",
       "        text-align: right;\n",
       "    }\n",
       "</style>\n",
       "<table border=\"1\" class=\"dataframe\">\n",
       "  <thead>\n",
       "    <tr style=\"text-align: right;\">\n",
       "      <th></th>\n",
       "      <th>product_id</th>\n",
       "      <th>category_id</th>\n",
       "      <th>category_code</th>\n",
       "      <th>brand</th>\n",
       "    </tr>\n",
       "  </thead>\n",
       "  <tbody>\n",
       "    <tr>\n",
       "      <th>0</th>\n",
       "      <td>3809</td>\n",
       "      <td>1487580005343953762</td>\n",
       "      <td>NaN</td>\n",
       "      <td>entity</td>\n",
       "    </tr>\n",
       "    <tr>\n",
       "      <th>1</th>\n",
       "      <td>4431</td>\n",
       "      <td>1487580009387261981</td>\n",
       "      <td>NaN</td>\n",
       "      <td>cnd</td>\n",
       "    </tr>\n",
       "    <tr>\n",
       "      <th>2</th>\n",
       "      <td>4723</td>\n",
       "      <td>1487580006317032337</td>\n",
       "      <td>NaN</td>\n",
       "      <td>NaN</td>\n",
       "    </tr>\n",
       "    <tr>\n",
       "      <th>3</th>\n",
       "      <td>4758</td>\n",
       "      <td>1487580010796548183</td>\n",
       "      <td>NaN</td>\n",
       "      <td>runail</td>\n",
       "    </tr>\n",
       "    <tr>\n",
       "      <th>4</th>\n",
       "      <td>4781</td>\n",
       "      <td>1487580006317032337</td>\n",
       "      <td>NaN</td>\n",
       "      <td>NaN</td>\n",
       "    </tr>\n",
       "    <tr>\n",
       "      <th>...</th>\n",
       "      <td>...</td>\n",
       "      <td>...</td>\n",
       "      <td>...</td>\n",
       "      <td>...</td>\n",
       "    </tr>\n",
       "    <tr>\n",
       "      <th>1995</th>\n",
       "      <td>5908799</td>\n",
       "      <td>1487580008011531230</td>\n",
       "      <td>NaN</td>\n",
       "      <td>dewal</td>\n",
       "    </tr>\n",
       "    <tr>\n",
       "      <th>1996</th>\n",
       "      <td>5909012</td>\n",
       "      <td>1487580005427839846</td>\n",
       "      <td>NaN</td>\n",
       "      <td>irisk</td>\n",
       "    </tr>\n",
       "    <tr>\n",
       "      <th>1997</th>\n",
       "      <td>5909052</td>\n",
       "      <td>1487580005427839846</td>\n",
       "      <td>NaN</td>\n",
       "      <td>irisk</td>\n",
       "    </tr>\n",
       "    <tr>\n",
       "      <th>1998</th>\n",
       "      <td>5909238</td>\n",
       "      <td>2187790129827939246</td>\n",
       "      <td>NaN</td>\n",
       "      <td>dewal</td>\n",
       "    </tr>\n",
       "    <tr>\n",
       "      <th>1999</th>\n",
       "      <td>5909245</td>\n",
       "      <td>2187790129827939246</td>\n",
       "      <td>NaN</td>\n",
       "      <td>dewal</td>\n",
       "    </tr>\n",
       "  </tbody>\n",
       "</table>\n",
       "<p>2000 rows × 4 columns</p>\n",
       "</div>"
      ],
      "text/plain": [
       "      product_id          category_id category_code   brand\n",
       "0           3809  1487580005343953762           NaN  entity\n",
       "1           4431  1487580009387261981           NaN     cnd\n",
       "2           4723  1487580006317032337           NaN     NaN\n",
       "3           4758  1487580010796548183           NaN  runail\n",
       "4           4781  1487580006317032337           NaN     NaN\n",
       "...          ...                  ...           ...     ...\n",
       "1995     5908799  1487580008011531230           NaN   dewal\n",
       "1996     5909012  1487580005427839846           NaN   irisk\n",
       "1997     5909052  1487580005427839846           NaN   irisk\n",
       "1998     5909238  2187790129827939246           NaN   dewal\n",
       "1999     5909245  2187790129827939246           NaN   dewal\n",
       "\n",
       "[2000 rows x 4 columns]"
      ]
     },
     "execution_count": 490,
     "metadata": {},
     "output_type": "execute_result"
    }
   ],
   "source": [
    "df_products"
   ]
  },
  {
   "cell_type": "code",
   "execution_count": 470,
   "metadata": {},
   "outputs": [],
   "source": [
    "df_orders = df_events[df_events.event_type=='purchase'].loc[:, ['user_session', 'event_time', 'product_id', 'user_id', 'price']]\n",
    "df_orders['created_time'] = df_orders.loc[:, ['user_session', 'event_time']].sort_values(['user_session', 'event_time']).groupby('user_session')['event_time'].transform('nth', -1)\n",
    "df_orders = df_orders.drop('event_time', axis = 1)"
   ]
  },
  {
   "cell_type": "code",
   "execution_count": 483,
   "metadata": {},
   "outputs": [],
   "source": [
    "# The price could be different for the sample product in a user_session.\n",
    "df_orders['qty'] = df_orders.groupby(['user_session', 'product_id', 'price'])['user_id'].transform('count')\n",
    "df_orders = df_orders.drop_duplicates().reset_index(drop=True)"
   ]
  },
  {
   "cell_type": "code",
   "execution_count": 491,
   "metadata": {},
   "outputs": [
    {
     "data": {
      "text/html": [
       "<div>\n",
       "<style scoped>\n",
       "    .dataframe tbody tr th:only-of-type {\n",
       "        vertical-align: middle;\n",
       "    }\n",
       "\n",
       "    .dataframe tbody tr th {\n",
       "        vertical-align: top;\n",
       "    }\n",
       "\n",
       "    .dataframe thead th {\n",
       "        text-align: right;\n",
       "    }\n",
       "</style>\n",
       "<table border=\"1\" class=\"dataframe\">\n",
       "  <thead>\n",
       "    <tr style=\"text-align: right;\">\n",
       "      <th></th>\n",
       "      <th>user_session</th>\n",
       "      <th>product_id</th>\n",
       "      <th>user_id</th>\n",
       "      <th>price</th>\n",
       "      <th>created_time</th>\n",
       "      <th>qty</th>\n",
       "    </tr>\n",
       "  </thead>\n",
       "  <tbody>\n",
       "    <tr>\n",
       "      <th>0</th>\n",
       "      <td>3780e751-80bb-4892-aed7-c72daf2ef9c6</td>\n",
       "      <td>5844397</td>\n",
       "      <td>557466625</td>\n",
       "      <td>2.38</td>\n",
       "      <td>2019-11-01 18:25:14 UTC</td>\n",
       "      <td>1</td>\n",
       "    </tr>\n",
       "    <tr>\n",
       "      <th>1</th>\n",
       "      <td>b16fb822-8904-49f9-86fe-469a8e9bb84f</td>\n",
       "      <td>5844397</td>\n",
       "      <td>457987436</td>\n",
       "      <td>2.38</td>\n",
       "      <td>2019-11-01 20:48:26 UTC</td>\n",
       "      <td>1</td>\n",
       "    </tr>\n",
       "    <tr>\n",
       "      <th>2</th>\n",
       "      <td>bd7cf733-dd73-4d09-8df4-c16cc05d222c</td>\n",
       "      <td>5844397</td>\n",
       "      <td>552185190</td>\n",
       "      <td>2.38</td>\n",
       "      <td>2019-11-03 18:41:34 UTC</td>\n",
       "      <td>1</td>\n",
       "    </tr>\n",
       "    <tr>\n",
       "      <th>3</th>\n",
       "      <td>e638e59b-e3e6-5a96-c535-060a1b506438</td>\n",
       "      <td>5844397</td>\n",
       "      <td>543665202</td>\n",
       "      <td>2.38</td>\n",
       "      <td>2019-11-04 14:09:20 UTC</td>\n",
       "      <td>1</td>\n",
       "    </tr>\n",
       "    <tr>\n",
       "      <th>4</th>\n",
       "      <td>46d53300-e884-4098-be62-a422f9df2988</td>\n",
       "      <td>5844397</td>\n",
       "      <td>499356552</td>\n",
       "      <td>2.38</td>\n",
       "      <td>2019-11-05 17:39:27 UTC</td>\n",
       "      <td>1</td>\n",
       "    </tr>\n",
       "    <tr>\n",
       "      <th>...</th>\n",
       "      <td>...</td>\n",
       "      <td>...</td>\n",
       "      <td>...</td>\n",
       "      <td>...</td>\n",
       "      <td>...</td>\n",
       "      <td>...</td>\n",
       "    </tr>\n",
       "    <tr>\n",
       "      <th>13324</th>\n",
       "      <td>f58abddb-b147-4ea5-8e2f-5a6ff6e2f9f4</td>\n",
       "      <td>5908190</td>\n",
       "      <td>570033309</td>\n",
       "      <td>1.43</td>\n",
       "      <td>2019-11-29 14:23:17 UTC</td>\n",
       "      <td>1</td>\n",
       "    </tr>\n",
       "    <tr>\n",
       "      <th>13325</th>\n",
       "      <td>9f729b71-3877-9415-6570-6a0e81d99441</td>\n",
       "      <td>5908190</td>\n",
       "      <td>542768063</td>\n",
       "      <td>1.43</td>\n",
       "      <td>2019-11-29 16:01:27 UTC</td>\n",
       "      <td>1</td>\n",
       "    </tr>\n",
       "    <tr>\n",
       "      <th>13326</th>\n",
       "      <td>74d0f474-f9cd-4e36-932e-b3fcf73595a6</td>\n",
       "      <td>5856537</td>\n",
       "      <td>503269572</td>\n",
       "      <td>9.52</td>\n",
       "      <td>2019-11-28 07:06:15 UTC</td>\n",
       "      <td>1</td>\n",
       "    </tr>\n",
       "    <tr>\n",
       "      <th>13327</th>\n",
       "      <td>0d2fc105-b32e-4d75-90a1-ee44d1d0d39d</td>\n",
       "      <td>5909238</td>\n",
       "      <td>579137281</td>\n",
       "      <td>2.62</td>\n",
       "      <td>2019-11-30 17:49:06 UTC</td>\n",
       "      <td>1</td>\n",
       "    </tr>\n",
       "    <tr>\n",
       "      <th>13328</th>\n",
       "      <td>10ca7488-afc8-41bc-872f-d5c5b1ae6432</td>\n",
       "      <td>5909245</td>\n",
       "      <td>571392419</td>\n",
       "      <td>1.78</td>\n",
       "      <td>2019-11-30 19:20:17 UTC</td>\n",
       "      <td>1</td>\n",
       "    </tr>\n",
       "  </tbody>\n",
       "</table>\n",
       "<p>13329 rows × 6 columns</p>\n",
       "</div>"
      ],
      "text/plain": [
       "                               user_session  product_id    user_id  price  \\\n",
       "0      3780e751-80bb-4892-aed7-c72daf2ef9c6     5844397  557466625   2.38   \n",
       "1      b16fb822-8904-49f9-86fe-469a8e9bb84f     5844397  457987436   2.38   \n",
       "2      bd7cf733-dd73-4d09-8df4-c16cc05d222c     5844397  552185190   2.38   \n",
       "3      e638e59b-e3e6-5a96-c535-060a1b506438     5844397  543665202   2.38   \n",
       "4      46d53300-e884-4098-be62-a422f9df2988     5844397  499356552   2.38   \n",
       "...                                     ...         ...        ...    ...   \n",
       "13324  f58abddb-b147-4ea5-8e2f-5a6ff6e2f9f4     5908190  570033309   1.43   \n",
       "13325  9f729b71-3877-9415-6570-6a0e81d99441     5908190  542768063   1.43   \n",
       "13326  74d0f474-f9cd-4e36-932e-b3fcf73595a6     5856537  503269572   9.52   \n",
       "13327  0d2fc105-b32e-4d75-90a1-ee44d1d0d39d     5909238  579137281   2.62   \n",
       "13328  10ca7488-afc8-41bc-872f-d5c5b1ae6432     5909245  571392419   1.78   \n",
       "\n",
       "                  created_time  qty  \n",
       "0      2019-11-01 18:25:14 UTC    1  \n",
       "1      2019-11-01 20:48:26 UTC    1  \n",
       "2      2019-11-03 18:41:34 UTC    1  \n",
       "3      2019-11-04 14:09:20 UTC    1  \n",
       "4      2019-11-05 17:39:27 UTC    1  \n",
       "...                        ...  ...  \n",
       "13324  2019-11-29 14:23:17 UTC    1  \n",
       "13325  2019-11-29 16:01:27 UTC    1  \n",
       "13326  2019-11-28 07:06:15 UTC    1  \n",
       "13327  2019-11-30 17:49:06 UTC    1  \n",
       "13328  2019-11-30 19:20:17 UTC    1  \n",
       "\n",
       "[13329 rows x 6 columns]"
      ]
     },
     "execution_count": 491,
     "metadata": {},
     "output_type": "execute_result"
    }
   ],
   "source": [
    "df_orders"
   ]
  },
  {
   "cell_type": "code",
   "execution_count": 489,
   "metadata": {},
   "outputs": [
    {
     "data": {
      "text/html": [
       "<div>\n",
       "<style scoped>\n",
       "    .dataframe tbody tr th:only-of-type {\n",
       "        vertical-align: middle;\n",
       "    }\n",
       "\n",
       "    .dataframe tbody tr th {\n",
       "        vertical-align: top;\n",
       "    }\n",
       "\n",
       "    .dataframe thead th {\n",
       "        text-align: right;\n",
       "    }\n",
       "</style>\n",
       "<table border=\"1\" class=\"dataframe\">\n",
       "  <thead>\n",
       "    <tr style=\"text-align: right;\">\n",
       "      <th></th>\n",
       "      <th>event_time</th>\n",
       "      <th>event_type</th>\n",
       "      <th>product_id</th>\n",
       "      <th>category_id</th>\n",
       "      <th>category_code</th>\n",
       "      <th>brand</th>\n",
       "      <th>price</th>\n",
       "      <th>user_id</th>\n",
       "      <th>user_session</th>\n",
       "    </tr>\n",
       "  </thead>\n",
       "  <tbody>\n",
       "    <tr>\n",
       "      <th>0</th>\n",
       "      <td>2019-11-01 00:00:09 UTC</td>\n",
       "      <td>cart</td>\n",
       "      <td>5844397</td>\n",
       "      <td>1487580006317032337</td>\n",
       "      <td>NaN</td>\n",
       "      <td>NaN</td>\n",
       "      <td>2.38</td>\n",
       "      <td>553329724</td>\n",
       "      <td>2067216c-31b5-455d-a1cc-af0575a34ffb</td>\n",
       "    </tr>\n",
       "    <tr>\n",
       "      <th>1</th>\n",
       "      <td>2019-11-01 07:29:50 UTC</td>\n",
       "      <td>remove_from_cart</td>\n",
       "      <td>5844397</td>\n",
       "      <td>1487580006317032337</td>\n",
       "      <td>NaN</td>\n",
       "      <td>NaN</td>\n",
       "      <td>2.38</td>\n",
       "      <td>553329724</td>\n",
       "      <td>69b84261-c592-4980-89ae-dcd7b761f51f</td>\n",
       "    </tr>\n",
       "    <tr>\n",
       "      <th>2</th>\n",
       "      <td>2019-11-01 12:48:19 UTC</td>\n",
       "      <td>view</td>\n",
       "      <td>5844397</td>\n",
       "      <td>1487580006317032337</td>\n",
       "      <td>NaN</td>\n",
       "      <td>NaN</td>\n",
       "      <td>2.38</td>\n",
       "      <td>566097223</td>\n",
       "      <td>41e58e78-ab43-4451-8b3a-415e74d3caf8</td>\n",
       "    </tr>\n",
       "    <tr>\n",
       "      <th>3</th>\n",
       "      <td>2019-11-01 14:30:16 UTC</td>\n",
       "      <td>view</td>\n",
       "      <td>5844397</td>\n",
       "      <td>1487580006317032337</td>\n",
       "      <td>NaN</td>\n",
       "      <td>NaN</td>\n",
       "      <td>2.38</td>\n",
       "      <td>566097223</td>\n",
       "      <td>41e58e78-ab43-4451-8b3a-415e74d3caf8</td>\n",
       "    </tr>\n",
       "    <tr>\n",
       "      <th>4</th>\n",
       "      <td>2019-11-01 16:50:43 UTC</td>\n",
       "      <td>view</td>\n",
       "      <td>5844397</td>\n",
       "      <td>1487580006317032337</td>\n",
       "      <td>NaN</td>\n",
       "      <td>NaN</td>\n",
       "      <td>2.38</td>\n",
       "      <td>476624689</td>\n",
       "      <td>533e0004-2213-4313-9809-1c2b9026dc57</td>\n",
       "    </tr>\n",
       "  </tbody>\n",
       "</table>\n",
       "</div>"
      ],
      "text/plain": [
       "                event_time        event_type  product_id          category_id  \\\n",
       "0  2019-11-01 00:00:09 UTC              cart     5844397  1487580006317032337   \n",
       "1  2019-11-01 07:29:50 UTC  remove_from_cart     5844397  1487580006317032337   \n",
       "2  2019-11-01 12:48:19 UTC              view     5844397  1487580006317032337   \n",
       "3  2019-11-01 14:30:16 UTC              view     5844397  1487580006317032337   \n",
       "4  2019-11-01 16:50:43 UTC              view     5844397  1487580006317032337   \n",
       "\n",
       "  category_code brand  price    user_id                          user_session  \n",
       "0           NaN   NaN   2.38  553329724  2067216c-31b5-455d-a1cc-af0575a34ffb  \n",
       "1           NaN   NaN   2.38  553329724  69b84261-c592-4980-89ae-dcd7b761f51f  \n",
       "2           NaN   NaN   2.38  566097223  41e58e78-ab43-4451-8b3a-415e74d3caf8  \n",
       "3           NaN   NaN   2.38  566097223  41e58e78-ab43-4451-8b3a-415e74d3caf8  \n",
       "4           NaN   NaN   2.38  476624689  533e0004-2213-4313-9809-1c2b9026dc57  "
      ]
     },
     "execution_count": 489,
     "metadata": {},
     "output_type": "execute_result"
    }
   ],
   "source": [
    "df_events.head()"
   ]
  },
  {
   "cell_type": "code",
   "execution_count": 487,
   "metadata": {},
   "outputs": [
    {
     "data": {
      "text/html": [
       "<div>\n",
       "<style scoped>\n",
       "    .dataframe tbody tr th:only-of-type {\n",
       "        vertical-align: middle;\n",
       "    }\n",
       "\n",
       "    .dataframe tbody tr th {\n",
       "        vertical-align: top;\n",
       "    }\n",
       "\n",
       "    .dataframe thead th {\n",
       "        text-align: right;\n",
       "    }\n",
       "</style>\n",
       "<table border=\"1\" class=\"dataframe\">\n",
       "  <thead>\n",
       "    <tr style=\"text-align: right;\">\n",
       "      <th></th>\n",
       "      <th>user_session</th>\n",
       "      <th>product_id</th>\n",
       "      <th>user_id</th>\n",
       "      <th>price</th>\n",
       "      <th>created_time</th>\n",
       "      <th>qty</th>\n",
       "    </tr>\n",
       "  </thead>\n",
       "  <tbody>\n",
       "    <tr>\n",
       "      <th>0</th>\n",
       "      <td>3780e751-80bb-4892-aed7-c72daf2ef9c6</td>\n",
       "      <td>5844397</td>\n",
       "      <td>557466625</td>\n",
       "      <td>2.38</td>\n",
       "      <td>2019-11-01 18:25:14 UTC</td>\n",
       "      <td>1</td>\n",
       "    </tr>\n",
       "    <tr>\n",
       "      <th>1</th>\n",
       "      <td>b16fb822-8904-49f9-86fe-469a8e9bb84f</td>\n",
       "      <td>5844397</td>\n",
       "      <td>457987436</td>\n",
       "      <td>2.38</td>\n",
       "      <td>2019-11-01 20:48:26 UTC</td>\n",
       "      <td>1</td>\n",
       "    </tr>\n",
       "    <tr>\n",
       "      <th>2</th>\n",
       "      <td>bd7cf733-dd73-4d09-8df4-c16cc05d222c</td>\n",
       "      <td>5844397</td>\n",
       "      <td>552185190</td>\n",
       "      <td>2.38</td>\n",
       "      <td>2019-11-03 18:41:34 UTC</td>\n",
       "      <td>1</td>\n",
       "    </tr>\n",
       "    <tr>\n",
       "      <th>3</th>\n",
       "      <td>e638e59b-e3e6-5a96-c535-060a1b506438</td>\n",
       "      <td>5844397</td>\n",
       "      <td>543665202</td>\n",
       "      <td>2.38</td>\n",
       "      <td>2019-11-04 14:09:20 UTC</td>\n",
       "      <td>1</td>\n",
       "    </tr>\n",
       "    <tr>\n",
       "      <th>4</th>\n",
       "      <td>46d53300-e884-4098-be62-a422f9df2988</td>\n",
       "      <td>5844397</td>\n",
       "      <td>499356552</td>\n",
       "      <td>2.38</td>\n",
       "      <td>2019-11-05 17:39:27 UTC</td>\n",
       "      <td>1</td>\n",
       "    </tr>\n",
       "    <tr>\n",
       "      <th>...</th>\n",
       "      <td>...</td>\n",
       "      <td>...</td>\n",
       "      <td>...</td>\n",
       "      <td>...</td>\n",
       "      <td>...</td>\n",
       "      <td>...</td>\n",
       "    </tr>\n",
       "    <tr>\n",
       "      <th>13324</th>\n",
       "      <td>f58abddb-b147-4ea5-8e2f-5a6ff6e2f9f4</td>\n",
       "      <td>5908190</td>\n",
       "      <td>570033309</td>\n",
       "      <td>1.43</td>\n",
       "      <td>2019-11-29 14:23:17 UTC</td>\n",
       "      <td>1</td>\n",
       "    </tr>\n",
       "    <tr>\n",
       "      <th>13325</th>\n",
       "      <td>9f729b71-3877-9415-6570-6a0e81d99441</td>\n",
       "      <td>5908190</td>\n",
       "      <td>542768063</td>\n",
       "      <td>1.43</td>\n",
       "      <td>2019-11-29 16:01:27 UTC</td>\n",
       "      <td>1</td>\n",
       "    </tr>\n",
       "    <tr>\n",
       "      <th>13326</th>\n",
       "      <td>74d0f474-f9cd-4e36-932e-b3fcf73595a6</td>\n",
       "      <td>5856537</td>\n",
       "      <td>503269572</td>\n",
       "      <td>9.52</td>\n",
       "      <td>2019-11-28 07:06:15 UTC</td>\n",
       "      <td>1</td>\n",
       "    </tr>\n",
       "    <tr>\n",
       "      <th>13327</th>\n",
       "      <td>0d2fc105-b32e-4d75-90a1-ee44d1d0d39d</td>\n",
       "      <td>5909238</td>\n",
       "      <td>579137281</td>\n",
       "      <td>2.62</td>\n",
       "      <td>2019-11-30 17:49:06 UTC</td>\n",
       "      <td>1</td>\n",
       "    </tr>\n",
       "    <tr>\n",
       "      <th>13328</th>\n",
       "      <td>10ca7488-afc8-41bc-872f-d5c5b1ae6432</td>\n",
       "      <td>5909245</td>\n",
       "      <td>571392419</td>\n",
       "      <td>1.78</td>\n",
       "      <td>2019-11-30 19:20:17 UTC</td>\n",
       "      <td>1</td>\n",
       "    </tr>\n",
       "  </tbody>\n",
       "</table>\n",
       "<p>13329 rows × 6 columns</p>\n",
       "</div>"
      ],
      "text/plain": [
       "                               user_session  product_id    user_id  price  \\\n",
       "0      3780e751-80bb-4892-aed7-c72daf2ef9c6     5844397  557466625   2.38   \n",
       "1      b16fb822-8904-49f9-86fe-469a8e9bb84f     5844397  457987436   2.38   \n",
       "2      bd7cf733-dd73-4d09-8df4-c16cc05d222c     5844397  552185190   2.38   \n",
       "3      e638e59b-e3e6-5a96-c535-060a1b506438     5844397  543665202   2.38   \n",
       "4      46d53300-e884-4098-be62-a422f9df2988     5844397  499356552   2.38   \n",
       "...                                     ...         ...        ...    ...   \n",
       "13324  f58abddb-b147-4ea5-8e2f-5a6ff6e2f9f4     5908190  570033309   1.43   \n",
       "13325  9f729b71-3877-9415-6570-6a0e81d99441     5908190  542768063   1.43   \n",
       "13326  74d0f474-f9cd-4e36-932e-b3fcf73595a6     5856537  503269572   9.52   \n",
       "13327  0d2fc105-b32e-4d75-90a1-ee44d1d0d39d     5909238  579137281   2.62   \n",
       "13328  10ca7488-afc8-41bc-872f-d5c5b1ae6432     5909245  571392419   1.78   \n",
       "\n",
       "                  created_time  qty  \n",
       "0      2019-11-01 18:25:14 UTC    1  \n",
       "1      2019-11-01 20:48:26 UTC    1  \n",
       "2      2019-11-03 18:41:34 UTC    1  \n",
       "3      2019-11-04 14:09:20 UTC    1  \n",
       "4      2019-11-05 17:39:27 UTC    1  \n",
       "...                        ...  ...  \n",
       "13324  2019-11-29 14:23:17 UTC    1  \n",
       "13325  2019-11-29 16:01:27 UTC    1  \n",
       "13326  2019-11-28 07:06:15 UTC    1  \n",
       "13327  2019-11-30 17:49:06 UTC    1  \n",
       "13328  2019-11-30 19:20:17 UTC    1  \n",
       "\n",
       "[13329 rows x 6 columns]"
      ]
     },
     "execution_count": 487,
     "metadata": {},
     "output_type": "execute_result"
    }
   ],
   "source": [
    "# Generate user table\n"
   ]
  },
  {
   "cell_type": "code",
   "execution_count": 316,
   "metadata": {},
   "outputs": [
    {
     "data": {
      "text/plain": [
       "array([nan, 'apparel.glove', 'appliances.personal.hair_cutter',\n",
       "       'appliances.environment.vacuum', 'stationery.cartrige',\n",
       "       'accessories.bag', 'furniture.bathroom.bath',\n",
       "       'appliances.environment.air_conditioner'], dtype=object)"
      ]
     },
     "execution_count": 316,
     "metadata": {},
     "output_type": "execute_result"
    }
   ],
   "source": []
  },
  {
   "cell_type": "code",
   "execution_count": 309,
   "metadata": {},
   "outputs": [
    {
     "data": {
      "text/html": [
       "<div>\n",
       "<style scoped>\n",
       "    .dataframe tbody tr th:only-of-type {\n",
       "        vertical-align: middle;\n",
       "    }\n",
       "\n",
       "    .dataframe tbody tr th {\n",
       "        vertical-align: top;\n",
       "    }\n",
       "\n",
       "    .dataframe thead th {\n",
       "        text-align: right;\n",
       "    }\n",
       "</style>\n",
       "<table border=\"1\" class=\"dataframe\">\n",
       "  <thead>\n",
       "    <tr style=\"text-align: right;\">\n",
       "      <th></th>\n",
       "      <th>product_id</th>\n",
       "    </tr>\n",
       "  </thead>\n",
       "  <tbody>\n",
       "    <tr>\n",
       "      <th>0</th>\n",
       "      <td>5844397</td>\n",
       "    </tr>\n",
       "    <tr>\n",
       "      <th>1</th>\n",
       "      <td>5807857</td>\n",
       "    </tr>\n",
       "    <tr>\n",
       "      <th>2</th>\n",
       "      <td>26765</td>\n",
       "    </tr>\n",
       "    <tr>\n",
       "      <th>3</th>\n",
       "      <td>5573498</td>\n",
       "    </tr>\n",
       "    <tr>\n",
       "      <th>4</th>\n",
       "      <td>5864578</td>\n",
       "    </tr>\n",
       "    <tr>\n",
       "      <th>...</th>\n",
       "      <td>...</td>\n",
       "    </tr>\n",
       "    <tr>\n",
       "      <th>1995</th>\n",
       "      <td>5909245</td>\n",
       "    </tr>\n",
       "    <tr>\n",
       "      <th>1996</th>\n",
       "      <td>5650353</td>\n",
       "    </tr>\n",
       "    <tr>\n",
       "      <th>1997</th>\n",
       "      <td>5700958</td>\n",
       "    </tr>\n",
       "    <tr>\n",
       "      <th>1998</th>\n",
       "      <td>5833078</td>\n",
       "    </tr>\n",
       "    <tr>\n",
       "      <th>1999</th>\n",
       "      <td>5856578</td>\n",
       "    </tr>\n",
       "  </tbody>\n",
       "</table>\n",
       "<p>2000 rows × 1 columns</p>\n",
       "</div>"
      ],
      "text/plain": [
       "      product_id\n",
       "0        5844397\n",
       "1        5807857\n",
       "2          26765\n",
       "3        5573498\n",
       "4        5864578\n",
       "...          ...\n",
       "1995     5909245\n",
       "1996     5650353\n",
       "1997     5700958\n",
       "1998     5833078\n",
       "1999     5856578\n",
       "\n",
       "[2000 rows x 1 columns]"
      ]
     },
     "execution_count": 309,
     "metadata": {},
     "output_type": "execute_result"
    }
   ],
   "source": [
    "pd.DataFrame({'product_id':df_products.product_id.unique()})"
   ]
  },
  {
   "cell_type": "code",
   "execution_count": 201,
   "metadata": {
    "scrolled": true
   },
   "outputs": [
    {
     "data": {
      "text/html": [
       "<div>\n",
       "<style scoped>\n",
       "    .dataframe tbody tr th:only-of-type {\n",
       "        vertical-align: middle;\n",
       "    }\n",
       "\n",
       "    .dataframe tbody tr th {\n",
       "        vertical-align: top;\n",
       "    }\n",
       "\n",
       "    .dataframe thead th {\n",
       "        text-align: right;\n",
       "    }\n",
       "</style>\n",
       "<table border=\"1\" class=\"dataframe\">\n",
       "  <thead>\n",
       "    <tr style=\"text-align: right;\">\n",
       "      <th></th>\n",
       "      <th>user_id</th>\n",
       "      <th>sku_id</th>\n",
       "      <th>time</th>\n",
       "      <th>model_id</th>\n",
       "      <th>type</th>\n",
       "    </tr>\n",
       "  </thead>\n",
       "  <tbody>\n",
       "    <tr>\n",
       "      <th>0</th>\n",
       "      <td>266079</td>\n",
       "      <td>138778</td>\n",
       "      <td>2016-01-31 23:59:02</td>\n",
       "      <td>NaN</td>\n",
       "      <td>1</td>\n",
       "    </tr>\n",
       "    <tr>\n",
       "      <th>1</th>\n",
       "      <td>266079</td>\n",
       "      <td>138778</td>\n",
       "      <td>2016-01-31 23:59:03</td>\n",
       "      <td>0.0</td>\n",
       "      <td>6</td>\n",
       "    </tr>\n",
       "    <tr>\n",
       "      <th>2</th>\n",
       "      <td>266079</td>\n",
       "      <td>138778</td>\n",
       "      <td>2016-01-31 23:59:40</td>\n",
       "      <td>0.0</td>\n",
       "      <td>6</td>\n",
       "    </tr>\n",
       "    <tr>\n",
       "      <th>3</th>\n",
       "      <td>276956</td>\n",
       "      <td>138778</td>\n",
       "      <td>2016-02-01 01:44:12</td>\n",
       "      <td>217.0</td>\n",
       "      <td>6</td>\n",
       "    </tr>\n",
       "    <tr>\n",
       "      <th>4</th>\n",
       "      <td>276956</td>\n",
       "      <td>138778</td>\n",
       "      <td>2016-02-01 01:44:12</td>\n",
       "      <td>223.0</td>\n",
       "      <td>6</td>\n",
       "    </tr>\n",
       "    <tr>\n",
       "      <th>...</th>\n",
       "      <td>...</td>\n",
       "      <td>...</td>\n",
       "      <td>...</td>\n",
       "      <td>...</td>\n",
       "      <td>...</td>\n",
       "    </tr>\n",
       "    <tr>\n",
       "      <th>13015598</th>\n",
       "      <td>253799</td>\n",
       "      <td>156490</td>\n",
       "      <td>2016-04-15 23:46:06</td>\n",
       "      <td>NaN</td>\n",
       "      <td>1</td>\n",
       "    </tr>\n",
       "    <tr>\n",
       "      <th>13015599</th>\n",
       "      <td>253799</td>\n",
       "      <td>156490</td>\n",
       "      <td>2016-04-15 23:46:06</td>\n",
       "      <td>26.0</td>\n",
       "      <td>6</td>\n",
       "    </tr>\n",
       "    <tr>\n",
       "      <th>13015600</th>\n",
       "      <td>253799</td>\n",
       "      <td>156490</td>\n",
       "      <td>2016-04-15 23:46:37</td>\n",
       "      <td>26.0</td>\n",
       "      <td>6</td>\n",
       "    </tr>\n",
       "    <tr>\n",
       "      <th>13015601</th>\n",
       "      <td>253799</td>\n",
       "      <td>156490</td>\n",
       "      <td>2016-04-15 23:48:42</td>\n",
       "      <td>26.0</td>\n",
       "      <td>6</td>\n",
       "    </tr>\n",
       "    <tr>\n",
       "      <th>13015602</th>\n",
       "      <td>253799</td>\n",
       "      <td>156490</td>\n",
       "      <td>2016-04-15 23:48:42</td>\n",
       "      <td>NaN</td>\n",
       "      <td>1</td>\n",
       "    </tr>\n",
       "  </tbody>\n",
       "</table>\n",
       "<p>13015603 rows × 5 columns</p>\n",
       "</div>"
      ],
      "text/plain": [
       "         user_id  sku_id                 time  model_id  type\n",
       "0         266079  138778  2016-01-31 23:59:02       NaN     1\n",
       "1         266079  138778  2016-01-31 23:59:03       0.0     6\n",
       "2         266079  138778  2016-01-31 23:59:40       0.0     6\n",
       "3         276956  138778  2016-02-01 01:44:12     217.0     6\n",
       "4         276956  138778  2016-02-01 01:44:12     223.0     6\n",
       "...          ...     ...                  ...       ...   ...\n",
       "13015598  253799  156490  2016-04-15 23:46:06       NaN     1\n",
       "13015599  253799  156490  2016-04-15 23:46:06      26.0     6\n",
       "13015600  253799  156490  2016-04-15 23:46:37      26.0     6\n",
       "13015601  253799  156490  2016-04-15 23:48:42      26.0     6\n",
       "13015602  253799  156490  2016-04-15 23:48:42       NaN     1\n",
       "\n",
       "[13015603 rows x 5 columns]"
      ]
     },
     "execution_count": 201,
     "metadata": {},
     "output_type": "execute_result"
    }
   ],
   "source": [
    "sql = \"\"\"\n",
    "SELECT *\n",
    "FROM 'dw.actions'\n",
    "\"\"\"\n",
    "df = pd.read_sql(sql, conn)\n",
    "df"
   ]
  },
  {
   "cell_type": "code",
   "execution_count": 271,
   "metadata": {},
   "outputs": [],
   "source": [
    "create_dw_tables = project_dir + r'/src/create_dw_tables.py'"
   ]
  },
  {
   "cell_type": "code",
   "execution_count": 272,
   "metadata": {},
   "outputs": [
    {
     "data": {
      "text/plain": [
       "'/mnt/data-ubuntu/Projects/user_profile/src/create_dw_tables.py'"
      ]
     },
     "execution_count": 272,
     "metadata": {},
     "output_type": "execute_result"
    }
   ],
   "source": [
    "create_dw_tables"
   ]
  },
  {
   "cell_type": "code",
   "execution_count": 280,
   "metadata": {
    "scrolled": true
   },
   "outputs": [
    {
     "name": "stderr",
     "output_type": "stream",
     "text": [
      "ERROR:root:File `'create_dw_tables.py'` not found.\n"
     ]
    }
   ],
   "source": [
    "%run -i create_dw_tables"
   ]
  }
 ],
 "metadata": {
  "kernelspec": {
   "display_name": "Python 3",
   "language": "python",
   "name": "python3"
  },
  "language_info": {
   "codemirror_mode": {
    "name": "ipython",
    "version": 3
   },
   "file_extension": ".py",
   "mimetype": "text/x-python",
   "name": "python",
   "nbconvert_exporter": "python",
   "pygments_lexer": "ipython3",
   "version": "3.7.6"
  },
  "toc": {
   "base_numbering": 1,
   "nav_menu": {},
   "number_sections": true,
   "sideBar": true,
   "skip_h1_title": false,
   "title_cell": "Table of Contents",
   "title_sidebar": "Contents",
   "toc_cell": false,
   "toc_position": {},
   "toc_section_display": true,
   "toc_window_display": false
  }
 },
 "nbformat": 4,
 "nbformat_minor": 4
}
